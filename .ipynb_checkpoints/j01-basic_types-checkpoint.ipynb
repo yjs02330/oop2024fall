{
 "cells": [
  {
   "cell_type": "markdown",
   "metadata": {},
   "source": [
    "# 기본 타입\n",
    "자바의 타입은 두 종류로 나눌 수 있다.\n",
    "- **원시 타입**(primitive types): CPU에서 제공하는 기본 타입에 대응\n",
    "- **참조 타입**(reference types): 차지하는 메모리 주소가 있는 객체의 타입\n",
    "\n",
    "C와는 달리, 자바의 정수와 실수 관련 원시 타입 타입은 그 범위가 표준에 고정되어 있다.\n",
    "즉 정확히 몇 비트를 차지하는지 언어 표준에 고정되어 있는데, 이는 자바가 기본적으로 가상머신에서 동작하는 것을 기본으로 설계되었기 때문이다."
   ]
  },
  {
   "cell_type": "markdown",
   "metadata": {},
   "source": [
    "## 원시 타입\n",
    "원시 타입은 소문자로 시작하며 메소드가 없다."
   ]
  },
  {
   "cell_type": "markdown",
   "metadata": {},
   "source": [
    "### `boolean` (`false` 또는 `true`)"
   ]
  },
  {
   "cell_type": "code",
   "execution_count": 1,
   "metadata": {},
   "outputs": [],
   "source": [
    "var result = true;\n",
    "var anotherResult = false;"
   ]
  },
  {
   "cell_type": "code",
   "execution_count": 2,
   "metadata": {},
   "outputs": [],
   "source": [
    "// 위와 같은 내용을 var 대신 타입을 직접 지정하여 변수를 선언해 보라"
   ]
  },
  {
   "cell_type": "markdown",
   "metadata": {},
   "source": [
    "### `char` (character)\n",
    "문자"
   ]
  },
  {
   "cell_type": "code",
   "execution_count": 3,
   "metadata": {},
   "outputs": [],
   "source": [
    "var firstLetter = 'j';"
   ]
  },
  {
   "cell_type": "markdown",
   "metadata": {},
   "source": [
    "C의 `char`와는 달리 유니코드 글자도 하나의 변수에 담을 수 있다."
   ]
  },
  {
   "cell_type": "code",
   "execution_count": 4,
   "metadata": {},
   "outputs": [],
   "source": [
    "var koreanLetter = '가';"
   ]
  },
  {
   "cell_type": "code",
   "execution_count": 5,
   "metadata": {},
   "outputs": [],
   "source": [
    "// 위와 같은 내용을 var 대신 타입을 직접 지정하여 변수를 선언해 보라"
   ]
  },
  {
   "cell_type": "markdown",
   "metadata": {},
   "source": [
    "### `int` (signed 32-bit integer)\n",
    "부호가 있는 32비트 정수"
   ]
  },
  {
   "cell_type": "code",
   "execution_count": 6,
   "metadata": {},
   "outputs": [],
   "source": [
    "var numberOfLegs = 2;"
   ]
  },
  {
   "cell_type": "code",
   "execution_count": 7,
   "metadata": {},
   "outputs": [],
   "source": [
    "// 위와 같은 내용을 var 대신 타입을 직접 지정하여 변수를 선언해 보라"
   ]
  },
  {
   "cell_type": "markdown",
   "metadata": {},
   "source": [
    "### `double` (64-bit floating point)\n",
    "64비트 부동소수점 실수"
   ]
  },
  {
   "cell_type": "code",
   "execution_count": 8,
   "metadata": {},
   "outputs": [],
   "source": [
    "var cost = 3.78;"
   ]
  },
  {
   "cell_type": "code",
   "execution_count": 9,
   "metadata": {},
   "outputs": [],
   "source": [
    "// 위와 같은 내용을 var 대신 타입을 직접 지정하여 변수를 선언해 보라"
   ]
  },
  {
   "cell_type": "markdown",
   "metadata": {},
   "source": [
    "### `long`과 `float`\n",
    "조금 덜 자주 사용되는 `long`(64비트 정수)이나 `float`(32비트 부동소수점 실수) 타입의 값을 작성하려면 `L`이나 `f`같은 접미사(suffix)를 쓴다."
   ]
  },
  {
   "cell_type": "code",
   "execution_count": 10,
   "metadata": {},
   "outputs": [],
   "source": [
    "var longValue = 123L;\n",
    "var floatValue = 123.5f;"
   ]
  },
  {
   "cell_type": "code",
   "execution_count": 11,
   "metadata": {},
   "outputs": [],
   "source": [
    "// 위와 같은 내용을 var 대신 타입을 직접 지정하여 변수를 선언해 보라"
   ]
  },
  {
   "cell_type": "markdown",
   "metadata": {},
   "source": [
    "### `byte`와 `short`\n",
    "`byte`(부호가 있는 8비트 정수)와 `short`(부호가 있는 16비트 정수)는\n",
    "메모리를 아끼며 객체를 정의하고 싶을 때 활용된다."
   ]
  },
  {
   "cell_type": "code",
   "execution_count": 12,
   "metadata": {},
   "outputs": [],
   "source": [
    "record CompactHeader(byte tag, short version) { }"
   ]
  },
  {
   "cell_type": "markdown",
   "metadata": {},
   "source": [
    "이런 타입을 변수를 통해 활용하면 자동으로 `int`(32비트 정수)로 변환된다.\n",
    "\n",
    "예컨대, 아래 코드에서 `result`의 타입은 `int`다."
   ]
  },
  {
   "cell_type": "code",
   "execution_count": 13,
   "metadata": {},
   "outputs": [],
   "source": [
    "short value = 12;\n",
    "var result = value + value;"
   ]
  },
  {
   "cell_type": "markdown",
   "metadata": {},
   "source": [
    "### primitive conversions\n",
    "정수 타입은 정밀도를 잃지 않는다면 (즉, 변환 전 타입의 범위가 변환 후 타입의 범위에 포함되는 경우라면) 다른 정수 타입으로 자동으로 변환이 가능하며, 부동소수점 실수 타입인 `double`이나 `flaot`으로의 자동 변환도 항상 허용된다."
   ]
  },
  {
   "cell_type": "code",
   "execution_count": 14,
   "metadata": {},
   "outputs": [],
   "source": [
    "int intValue = 13;\n",
    "long longValue = intValue;"
   ]
  },
  {
   "cell_type": "code",
   "execution_count": 15,
   "metadata": {},
   "outputs": [],
   "source": [
    "// 위 코드에서 int와 long을 바꾸어 작성하면 어떻게 되는지 여기 작성해서 시험해 보라"
   ]
  },
  {
   "cell_type": "markdown",
   "metadata": {},
   "source": [
    "타입 변환 연산자(cast operator)를 활용하면 반대 방향으로도 (즉, 넓은 범위에서 좁은 범위로도) 변환을 강제하는 것도 가능하지만, 비트가 잘려나가며 값이 달라질 수도 있으므로 사용에 주의하라. 되도록이면 사용하지 않는 것이 좋다."
   ]
  },
  {
   "cell_type": "code",
   "execution_count": 16,
   "metadata": {},
   "outputs": [],
   "source": [
    "long longValue = 1_000_000_000_000L;\n",
    "int intValue = (int) longValue;"
   ]
  },
  {
   "cell_type": "code",
   "execution_count": 17,
   "metadata": {},
   "outputs": [
    {
     "data": {
      "text/plain": [
       "-727379968"
      ]
     },
     "execution_count": 17,
     "metadata": {},
     "output_type": "execute_result"
    }
   ],
   "source": [
    "intValue"
   ]
  },
  {
   "cell_type": "markdown",
   "metadata": {},
   "source": [
    "## 객체\n",
    "원시 타입(primitive type)이 아닌 자바의 다른 모든 타입은 참조 타입(reference type)이며, 그런 타입의 값을 바로 객체(object)라고 한다. 그 중에 `String`과 배열(array)은 특별한데, 왜냐하면 사용자가 코드를 작성하여 정의하는 사용자 정의 타입(user-defined type)이 아니라 기본적으로 자바 컴파일러에 내장되어 제공되는 타입(built-in type)으로 취급되기 때문이다."
   ]
  },
  {
   "cell_type": "markdown",
   "metadata": {},
   "source": [
    "### `String`\n",
    "`String`은 텍스트(혹은 문자열)를 저장하는 타입으로, 한 쌍의 쌍따옴표로 감싸 그 값을 표현한다.\n",
    "참고로, 이렇게 앞뒤로 감싸 안과 밖을 구분하는 문법 요소를 **구분자**(delimiter)라고 한다."
   ]
  },
  {
   "cell_type": "code",
   "execution_count": 18,
   "metadata": {},
   "outputs": [],
   "source": [
    "var text = \"hello\"; "
   ]
  },
  {
   "cell_type": "code",
   "execution_count": 19,
   "metadata": {},
   "outputs": [
    {
     "data": {
      "text/plain": [
       "hello"
      ]
     },
     "execution_count": 19,
     "metadata": {},
     "output_type": "execute_result"
    }
   ],
   "source": [
    "text"
   ]
  },
  {
   "cell_type": "markdown",
   "metadata": {},
   "source": [
    "`String` 값을 여러 줄에 걸쳐 작성할 수도 있는데, 이를 **텍스트 블록**(text block)이라고 하며 그 시작과 끝은 연달아 작성한 3개의 쌍따옴표로 구분한다."
   ]
  },
  {
   "cell_type": "code",
   "execution_count": 20,
   "metadata": {},
   "outputs": [],
   "source": [
    "var multilineText = \"\"\"\n",
    "   This is\n",
    "   a multilines string\n",
    "   \"\"\";"
   ]
  },
  {
   "cell_type": "code",
   "execution_count": 21,
   "metadata": {},
   "outputs": [
    {
     "data": {
      "text/plain": [
       "This is\n",
       "a multilines string\n"
      ]
     },
     "execution_count": 21,
     "metadata": {},
     "output_type": "execute_result"
    }
   ],
   "source": [
    "multilineText"
   ]
  },
  {
   "cell_type": "markdown",
   "metadata": {},
   "source": [
    "일반적인 문자열에서 줄바꿈을 나타내려면 `\\n`과 같은 탈출 문자열(secape sequence)를 활용해야 하는 것과는 달리, 텍스트 블록은 줄바꿈도 그대로 내용으로 포함된다. 그런데, 마지막 `\"\"\"`와의 상대적인 위치에 따라 텍스트 블록 내용의 들여쓰기가 결정된다.\n",
    "예컨대, 다음과 같은 예제에서는 두 글자 빈칸만큼 들여쓰기된 내용의 텍스트가 만들어진다."
   ]
  },
  {
   "cell_type": "code",
   "execution_count": 22,
   "metadata": {},
   "outputs": [],
   "source": [
    "var multilineText = \"\"\"\n",
    "     This is\n",
    "     a multilines string\n",
    "     indented by two spaces\n",
    "   \"\"\";"
   ]
  },
  {
   "cell_type": "code",
   "execution_count": 23,
   "metadata": {},
   "outputs": [
    {
     "data": {
      "text/plain": [
       "  This is\n",
       "  a multilines string\n",
       "  indented by two spaces\n"
      ]
     },
     "execution_count": 23,
     "metadata": {},
     "output_type": "execute_result"
    }
   ],
   "source": [
    "multilineText"
   ]
  },
  {
   "cell_type": "markdown",
   "metadata": {},
   "source": [
    "#### 문자열(`String`) 관련 메소드\n",
    "문자열은 많은 메소드를 지원하는데, 여기서 몇 가지 살펴보자."
   ]
  },
  {
   "cell_type": "markdown",
   "metadata": {},
   "source": [
    "##### 문자열의 길이"
   ]
  },
  {
   "cell_type": "code",
   "execution_count": 24,
   "metadata": {},
   "outputs": [
    {
     "data": {
      "text/plain": [
       "5"
      ]
     },
     "execution_count": 24,
     "metadata": {},
     "output_type": "execute_result"
    }
   ],
   "source": [
    "\"hello\".length()"
   ]
  },
  {
   "cell_type": "code",
   "execution_count": 25,
   "metadata": {},
   "outputs": [
    {
     "data": {
      "text/plain": [
       "false"
      ]
     },
     "execution_count": 25,
     "metadata": {},
     "output_type": "execute_result"
    }
   ],
   "source": [
    "\"а\".equals(\"a\")"
   ]
  },
  {
   "cell_type": "markdown",
   "metadata": {},
   "source": [
    "##### 대소문자 변환\n",
    "아래에서 `Locale.ROOT`는 운영체제(OS)의 언어 설정에 영향을 받지 않는 결과를 얻기 위함이다."
   ]
  },
  {
   "cell_type": "code",
   "execution_count": 26,
   "metadata": {},
   "outputs": [
    {
     "data": {
      "text/plain": [
       "HELLO"
      ]
     },
     "execution_count": 26,
     "metadata": {},
     "output_type": "execute_result"
    }
   ],
   "source": [
    "\"hello\".toUpperCase(Locale.ROOT)"
   ]
  },
  {
   "cell_type": "code",
   "execution_count": 27,
   "metadata": {},
   "outputs": [
    {
     "data": {
      "text/plain": [
       "hello"
      ]
     },
     "execution_count": 27,
     "metadata": {},
     "output_type": "execute_result"
    }
   ],
   "source": [
    "\"HELLO\".toLowerCase(Locale.ROOT)"
   ]
  },
  {
   "cell_type": "markdown",
   "metadata": {},
   "source": [
    "대부분의 환경 설정에서는 인수 없이 호출해도 예상한 대로 동작한다.\n",
    "\n",
    "참고로, 관련 주제의 스택오버플로우 질문답변\n",
    " - https://stackoverflow.com/questions/11063102/using-locales-with-javas-tolowercase-and-touppercase"
   ]
  },
  {
   "cell_type": "code",
   "execution_count": 28,
   "metadata": {},
   "outputs": [
    {
     "data": {
      "text/plain": [
       "HELLO"
      ]
     },
     "execution_count": 28,
     "metadata": {},
     "output_type": "execute_result"
    }
   ],
   "source": [
    "\"hello\".toUpperCase()"
   ]
  },
  {
   "cell_type": "code",
   "execution_count": 29,
   "metadata": {},
   "outputs": [
    {
     "data": {
      "text/plain": [
       "hello"
      ]
     },
     "execution_count": 29,
     "metadata": {},
     "output_type": "execute_result"
    }
   ],
   "source": [
    "\"HELLO\".toLowerCase()"
   ]
  },
  {
   "cell_type": "markdown",
   "metadata": {},
   "source": [
    "##### 같은 내용 반복"
   ]
  },
  {
   "cell_type": "code",
   "execution_count": 30,
   "metadata": {},
   "outputs": [
    {
     "data": {
      "text/plain": [
       "|*||*||*|"
      ]
     },
     "execution_count": 30,
     "metadata": {},
     "output_type": "execute_result"
    }
   ],
   "source": [
    "\"|*|\".repeat(3)"
   ]
  },
  {
   "cell_type": "markdown",
   "metadata": {},
   "source": [
    "##### (0부터 시작하는) 인덱스 위치의 글자"
   ]
  },
  {
   "cell_type": "code",
   "execution_count": 31,
   "metadata": {},
   "outputs": [
    {
     "data": {
      "text/plain": [
       "h"
      ]
     },
     "execution_count": 31,
     "metadata": {},
     "output_type": "execute_result"
    }
   ],
   "source": [
    "\"hello\".charAt(0)"
   ]
  },
  {
   "cell_type": "markdown",
   "metadata": {},
   "source": [
    "##### 글자가 처음으로 나타나는 인덱스 값"
   ]
  },
  {
   "cell_type": "code",
   "execution_count": 32,
   "metadata": {},
   "outputs": [
    {
     "data": {
      "text/plain": [
       "2"
      ]
     },
     "execution_count": 32,
     "metadata": {},
     "output_type": "execute_result"
    }
   ],
   "source": [
    "\"hello\".indexOf('l')"
   ]
  },
  {
   "cell_type": "code",
   "execution_count": 33,
   "metadata": {},
   "outputs": [
    {
     "data": {
      "text/plain": [
       "4"
      ]
     },
     "execution_count": 33,
     "metadata": {},
     "output_type": "execute_result"
    }
   ],
   "source": [
    "\"hello\".indexOf('o')"
   ]
  },
  {
   "cell_type": "markdown",
   "metadata": {},
   "source": [
    "##### 원시 타입을 문자열로 변환\n",
    "문자열을 연결 연산자 `+`를 활용하면 간편하게 원시 데이터 타잆의 값을 `String`으로 변환할 수 있다.\n",
    "(더 자세한 내용은 \"string formatting\" 관련 노트북을 참고)"
   ]
  },
  {
   "cell_type": "code",
   "execution_count": 34,
   "metadata": {},
   "outputs": [
    {
     "data": {
      "text/plain": [
       "3"
      ]
     },
     "execution_count": 34,
     "metadata": {},
     "output_type": "execute_result"
    }
   ],
   "source": [
    "\"\" + 3"
   ]
  },
  {
   "cell_type": "code",
   "execution_count": 35,
   "metadata": {},
   "outputs": [
    {
     "data": {
      "text/plain": [
       "7.6"
      ]
     },
     "execution_count": 35,
     "metadata": {},
     "output_type": "execute_result"
    }
   ],
   "source": [
    "\"\" + 7.6"
   ]
  },
  {
   "cell_type": "markdown",
   "metadata": {},
   "source": [
    "자바 주피터 환경에서 식(expression)으로는 한번에 하나의 값만 확인할 수 있으므로\n",
    "한번에 여러 개의 값을 보려면 출력문을 여러 개 쓰는 방법으로 확인하면 된다."
   ]
  },
  {
   "cell_type": "code",
   "execution_count": 36,
   "metadata": {},
   "outputs": [
    {
     "name": "stdout",
     "output_type": "stream",
     "text": [
      "3\n",
      "7.6\n"
     ]
    }
   ],
   "source": [
    "System.out.println(\"\" + 3);\n",
    "System.out.println(\"\" + 7.6);"
   ]
  },
  {
   "cell_type": "markdown",
   "metadata": {},
   "source": [
    "##### 문자열을 원시 타입으로 변환\n",
    "반대로 문자열을 원시 타입으로 변환하는 것은 문자열의 메소드로는 제공되지 않으므로,\n",
    "`Boolean`, `Integer`, `Double` 등의 다른 여러 클래스(\"wrapper\"관련 노트북 참고)의 클래스 메소드(class method)를 활용하면 된다."
   ]
  },
  {
   "cell_type": "code",
   "execution_count": 37,
   "metadata": {},
   "outputs": [
    {
     "data": {
      "text/plain": [
       "3"
      ]
     },
     "execution_count": 37,
     "metadata": {},
     "output_type": "execute_result"
    }
   ],
   "source": [
    "Integer.parseInt(\"3\")"
   ]
  },
  {
   "cell_type": "code",
   "execution_count": 38,
   "metadata": {},
   "outputs": [
    {
     "data": {
      "text/plain": [
       "7.6"
      ]
     },
     "execution_count": 38,
     "metadata": {},
     "output_type": "execute_result"
    }
   ],
   "source": [
    "Double.parseDouble(\"7.6\")"
   ]
  },
  {
   "cell_type": "markdown",
   "metadata": {},
   "source": [
    "### 배열"
   ]
  },
  {
   "cell_type": "markdown",
   "metadata": {},
   "source": [
    "#### 0에 상응하는 값(`false`, `0`, `0.0` 등)으로 초기화되는 배열"
   ]
  },
  {
   "cell_type": "code",
   "execution_count": 39,
   "metadata": {},
   "outputs": [],
   "source": [
    "var intArray = new int[2];"
   ]
  },
  {
   "cell_type": "code",
   "execution_count": 40,
   "metadata": {},
   "outputs": [
    {
     "data": {
      "text/plain": [
       "[I@7e7d997"
      ]
     },
     "execution_count": 40,
     "metadata": {},
     "output_type": "execute_result"
    }
   ],
   "source": [
    "intArray // ???"
   ]
  },
  {
   "cell_type": "code",
   "execution_count": 41,
   "metadata": {},
   "outputs": [
    {
     "data": {
      "text/plain": [
       "[I@7e7d997"
      ]
     },
     "execution_count": 41,
     "metadata": {},
     "output_type": "execute_result"
    }
   ],
   "source": [
    "intArray.toString() // 안타깝지만 Java 기본 배열의 toString은 거의 무쓸모"
   ]
  },
  {
   "cell_type": "code",
   "execution_count": 42,
   "metadata": {},
   "outputs": [
    {
     "data": {
      "text/plain": [
       "[0, 0]"
      ]
     },
     "execution_count": 42,
     "metadata": {},
     "output_type": "execute_result"
    }
   ],
   "source": [
    "Arrays.toString(intArray) // 다른 클래스의 클래스 메소드를 활용해야"
   ]
  },
  {
   "cell_type": "markdown",
   "metadata": {},
   "source": [
    "#### An array initialized with some default values\n",
    "\n",
    "Because a value like `2` or `3` can be an numeric type\n",
    "(an `int`, a `long`, a `short`, etc)\n",
    "you have to specify the type of the array when you create it\n"
   ]
  },
  {
   "cell_type": "code",
   "execution_count": 43,
   "metadata": {},
   "outputs": [],
   "source": [
    "var intArray = new int[] { 2, 3 };\n",
    "var longArray = new long[] { 2, 3 };"
   ]
  },
  {
   "cell_type": "code",
   "execution_count": 44,
   "metadata": {},
   "outputs": [
    {
     "name": "stdout",
     "output_type": "stream",
     "text": [
      "[2, 3]\n",
      "[2, 3]\n"
     ]
    }
   ],
   "source": [
    "System.out.println( Arrays.toString(intArray) );\n",
    "System.out.println( Arrays.toString(longArray) );"
   ]
  },
  {
   "cell_type": "markdown",
   "metadata": {},
   "source": [
    "#### 배열의 요소(element)에 접근"
   ]
  },
  {
   "cell_type": "markdown",
   "metadata": {},
   "source": [
    "연산자 `[]`로 특정 인덱스 위치의 배열 요소를 가져오거나 그 값을 변경할 수 있다."
   ]
  },
  {
   "cell_type": "code",
   "execution_count": 45,
   "metadata": {},
   "outputs": [
    {
     "name": "stdout",
     "output_type": "stream",
     "text": [
      "2\n",
      "42\n"
     ]
    }
   ],
   "source": [
    "System.out.println(intArray[0]); // 변경 전 값 가져오기\n",
    "intArray[0] = 42; // 변경!!\n",
    "System.out.println(intArray[0]); // 변경 후 값 가져오기"
   ]
  },
  {
   "cell_type": "code",
   "execution_count": 46,
   "metadata": {},
   "outputs": [
    {
     "data": {
      "text/plain": [
       "[42, 3]"
      ]
     },
     "execution_count": 46,
     "metadata": {},
     "output_type": "execute_result"
    }
   ],
   "source": [
    "Arrays.toString(intArray)"
   ]
  },
  {
   "cell_type": "markdown",
   "metadata": {},
   "source": [
    "배열의 허용된 인덱스의 범위를 벗어나는 위치에 접근하려 하면 예외(exception)가 발생한다."
   ]
  },
  {
   "cell_type": "code",
   "execution_count": 47,
   "metadata": {},
   "outputs": [
    {
     "ename": "EvalException",
     "evalue": "Index -1 out of bounds for length 2",
     "output_type": "error",
     "traceback": [
      "\u001b[0m\u001b[1m\u001b[31mjava.lang.ArrayIndexOutOfBoundsException: Index -1 out of bounds for length 2\n\u001b[0m",
      "\u001b[0m\u001b[1m\u001b[34m   at .(#46:1)\u001b[0m",
      "\u001b[0m\u001b[0m\u001b[1m|--> intArray[-1] = 42;   // throws IndexOutOfBoundsException\u001b[0m"
     ]
    }
   ],
   "source": [
    "intArray[-1] = 42;   // throws IndexOutOfBoundsException"
   ]
  },
  {
   "cell_type": "markdown",
   "metadata": {},
   "source": [
    "#### 배열의 길이\n",
    "배열의 길이에 대한 메소드가 아닌 멤버(member)를 통해 알아볼 수 있다.\n",
    "멤버는 메소드가 아니므로 함수 호출 형식의 괄호를 끝에 붙이지 않는다. 멤버에 대해서는 이후에 설명할 것이다."
   ]
  },
  {
   "cell_type": "code",
   "execution_count": 48,
   "metadata": {},
   "outputs": [
    {
     "data": {
      "text/plain": [
       "2"
      ]
     },
     "execution_count": 48,
     "metadata": {},
     "output_type": "execute_result"
    }
   ],
   "source": [
    "intArray.length"
   ]
  },
  {
   "cell_type": "markdown",
   "metadata": {},
   "source": [
    "배열에서 `toString()`이나 `equals()`를 제공하기는 하지만 잘못 만들어져 있다고 말해도 될 만큼 무쓸모하다.\n",
    "왜 이런 식으로 동작하는지는 나중에 다른 노트북에서 다루기로 한다."
   ]
  },
  {
   "cell_type": "code",
   "execution_count": 49,
   "metadata": {},
   "outputs": [
    {
     "name": "stdout",
     "output_type": "stream",
     "text": [
      "[I@2800497\n",
      "false\n"
     ]
    }
   ],
   "source": [
    "System.out.println(intArray);\n",
    "System.out.println(new int[] {2,3}.equals(new int[] {2,3}));"
   ]
  },
  {
   "cell_type": "markdown",
   "metadata": {},
   "source": [
    "그래서, 자바의 기본 배열을 직접 사용하기보다는 다음과 같이 더 많은 기능을 제공하는 `List`를 활용하는 경우가 많다.\n",
    "이에 대한 더 자세한 내용은 다른 노트북에서 하기로 ..."
   ]
  },
  {
   "cell_type": "code",
   "execution_count": 50,
   "metadata": {},
   "outputs": [],
   "source": [
    "var intList = List.of(2, 3);\n",
    "var intList2 = List.of(2, 3);"
   ]
  },
  {
   "cell_type": "code",
   "execution_count": 51,
   "metadata": {},
   "outputs": [
    {
     "data": {
      "text/plain": [
       "[2, 3]"
      ]
     },
     "execution_count": 51,
     "metadata": {},
     "output_type": "execute_result"
    }
   ],
   "source": [
    "intList"
   ]
  },
  {
   "cell_type": "code",
   "execution_count": 52,
   "metadata": {},
   "outputs": [
    {
     "data": {
      "text/plain": [
       "true"
      ]
     },
     "execution_count": 52,
     "metadata": {},
     "output_type": "execute_result"
    }
   ],
   "source": [
    "intList.equals(intList2)"
   ]
  },
  {
   "cell_type": "markdown",
   "metadata": {},
   "source": [
    "## 클래스 메소드\n",
    "정적 메소드(static method)라고도 부르기도 한다.\n",
    "\n",
    "클래스 메소드를 활용하는 대표적인 사례가 바로 원시 타입과 관련된 기능을 메소드로 작성하는 경우다.\n",
    "원시 데이터는 객체가 아니므로 그 자신이 직접 메소드를 제공할 수 없기 때문에\n",
    "어떤 다른 클래스를 통해 그 기능의 내용을 작성한 메소드를 제공해야 하며,\n",
    "`SomeOtherClass.methodName(arg1, arg2, arg3)`와 같은 문법으로 호출하여 활용한다. \n",
    "\n",
    "자바의 기본 배열은 객체이긴 한데 쓸만한 메소드를 거의 제공하지 않기 때문에 원시 타입과 비슷한 이유로\n",
    "배열을 다루는 클래스 메소드들을 작성하여 제공하곤 한다."
   ]
  },
  {
   "cell_type": "markdown",
   "metadata": {},
   "source": [
    "예를 들어, `String`에서 `int`로 변환은 `java.lang.Integer`의 `parseInt` 메소드를 활용한다."
   ]
  },
  {
   "cell_type": "code",
   "execution_count": 53,
   "metadata": {},
   "outputs": [],
   "source": [
    "int resultAsInt = java.lang.Integer.parseInt(\"42\");"
   ]
  },
  {
   "cell_type": "code",
   "execution_count": 54,
   "metadata": {},
   "outputs": [
    {
     "data": {
      "text/plain": [
       "42"
      ]
     },
     "execution_count": 54,
     "metadata": {},
     "output_type": "execute_result"
    }
   ],
   "source": [
    "resultAsInt"
   ]
  },
  {
   "cell_type": "markdown",
   "metadata": {},
   "source": [
    "배열을 텍스트 형태로 변환하려면 `java.util.Arrays`의 클래스 메소드인 `toString`을 활용한다."
   ]
  },
  {
   "cell_type": "code",
   "execution_count": 55,
   "metadata": {},
   "outputs": [],
   "source": [
    "String text = java.util.Arrays.toString(intArray);"
   ]
  },
  {
   "cell_type": "code",
   "execution_count": 56,
   "metadata": {},
   "outputs": [
    {
     "data": {
      "text/plain": [
       "[42, 3]"
      ]
     },
     "execution_count": 56,
     "metadata": {},
     "output_type": "execute_result"
    }
   ],
   "source": [
    "text"
   ]
  },
  {
   "cell_type": "markdown",
   "metadata": {},
   "source": [
    "그런데, `java.lang` 패키지와 `java.util` 패키지에 있는 클래스들은\n",
    "우리 노트북 환경에서 이미 패키지 이름 없이 활용할 수 있도록 설정된 상태이므로\n",
    "다음과 같이 패키지 이름을 생략하고 활용할 수 있었던 것이다."
   ]
  },
  {
   "cell_type": "code",
   "execution_count": 57,
   "metadata": {},
   "outputs": [
    {
     "data": {
      "text/plain": [
       "42"
      ]
     },
     "execution_count": 57,
     "metadata": {},
     "output_type": "execute_result"
    }
   ],
   "source": [
    "Integer.parseInt(\"42\")"
   ]
  },
  {
   "cell_type": "code",
   "execution_count": 58,
   "metadata": {},
   "outputs": [
    {
     "data": {
      "text/plain": [
       "[42, 3]"
      ]
     },
     "execution_count": 58,
     "metadata": {},
     "output_type": "execute_result"
    }
   ],
   "source": [
    "Arrays.toString(intArray)"
   ]
  },
  {
   "cell_type": "code",
   "execution_count": null,
   "metadata": {},
   "outputs": [],
   "source": []
  }
 ],
 "metadata": {
  "kernelspec": {
   "display_name": "Java (rjk 2.1.0)",
   "language": "java",
   "name": "rapaio-jupyter-kernel"
  },
  "language_info": {
   "codemirror_mode": "java",
   "file_extension": ".jshell",
   "mimetype": "text/x-java-source",
   "name": "java",
   "nbconvert_exporter": "script",
   "pygments_lexer": "java",
   "version": "22.0.2+9"
  }
 },
 "nbformat": 4,
 "nbformat_minor": 4
}
