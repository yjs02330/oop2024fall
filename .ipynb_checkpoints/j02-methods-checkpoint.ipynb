{
 "cells": [
  {
   "cell_type": "markdown",
   "metadata": {},
   "source": [
    "# 메소드\n",
    "메소드(method)는 객체(object)가 취할 수 있는 동작(action)으로 이해할 수 있다."
   ]
  },
  {
   "cell_type": "markdown",
   "metadata": {},
   "source": [
    "메소드를 정의하는 문법의 형식은 다음과 같다.\n",
    "- `리턴_타입 메소드_이름(객체_타입 this, 파라메터_타입1 파라메터_이름1, 파라마터_타입2 파라메터_이름2) { ... ... ... }` <br>\n",
    "- `리턴_타입 메소드_이름(파라메터_타입1 파라메터_이름1, 파라마터_타입2 파라메터_이름2) { ... ... ... } `\n",
    "\n",
    "위에서 `this`는 메소드를 호출할 때 `.` 앞에 오는 값(객체)을 지칭하는 특수한 키워드로\n",
    "반드시 메소드의 가장 첫 파라메터로 위치에만 작성해야 하는데, 생략 가능하기 때문에 거의 대부분의 경우 생략하여 작성한다."
   ]
  },
  {
   "cell_type": "code",
   "execution_count": 4,
   "metadata": {},
   "outputs": [],
   "source": [
    "record Rectangle(int width, int height) {\n",
    "  boolean hasTheSameHeight(Rectangle this, Rectangle rectangle) {\n",
    "    return this.height == rectangle.height;\n",
    "  }\n",
    "}"
   ]
  },
  {
   "cell_type": "markdown",
   "metadata": {},
   "source": [
    "레코드 안에 정의된 메소드는 그 레코드의 인스턴스(즉, 어떤 참조 타입의 객체)가 있어야 호출할 수 있다.\n",
    "\n",
    "아래에서는 `rectangle1` 변수가 참조하는 인스턴스에 대해 `rectangle2` 변수가 참조하는 객체를 인수로 메소드를 호출하고 있다.\n",
    "(짧게 말하자면, rectangle1 객체의 메소드를 rectangle2를 인수로 제공하여 호출했다.)"
   ]
  },
  {
   "cell_type": "code",
   "execution_count": 5,
   "metadata": {},
   "outputs": [],
   "source": [
    "var rectangle1 = new Rectangle(2, 3);\n",
    "var rectangle2 = new Rectangle(4, 3);"
   ]
  },
  {
   "cell_type": "code",
   "execution_count": 6,
   "metadata": {},
   "outputs": [
    {
     "data": {
      "text/plain": [
       "true"
      ]
     },
     "execution_count": 6,
     "metadata": {},
     "output_type": "execute_result"
    }
   ],
   "source": [
    "rectangle1.hasTheSameHeight(rectangle2)"
   ]
  },
  {
   "cell_type": "markdown",
   "metadata": {},
   "source": [
    "`.` 앞의 `rectangle1`을 (메시지를 받는다는 의미에서) 수신자(receiver)라고도 하며\n",
    "`hasTheSameHeight(Rectangle)` 메소드의 몸체(중괄호 안의 코드 내용)에서 활용할 수 있도록 `this` 파라메터에 지정된다."
   ]
  },
  {
   "cell_type": "markdown",
   "metadata": {},
   "source": [
    "`this`를 첫 파라메터로 선언하지 않고 생략하더라도 마찬가지로 동작하므로, 아래의 `Rectangle`도 앞서 살펴본 `Rectangle`과 똑같은 레코드를 선언하게 된다."
   ]
  },
  {
   "cell_type": "code",
   "execution_count": 8,
   "metadata": {},
   "outputs": [],
   "source": [
    "record Rectangle(int width, int height) {\n",
    "  boolean hasTheSameHeight(Rectangle rectangle) {  // implicit this\n",
    "    return this.height == rectangle.height;\n",
    "  }\n",
    "}"
   ]
  },
  {
   "cell_type": "markdown",
   "metadata": {},
   "source": [
    "사실 자바에서 `this`를 메소드의 첫 파라메터로 명시적으로 작성하는 경우는 거의 없다시피 하다.\n",
    "게다가 메소드의 몸체 안에서도 파라메터가 아닌 경우 (즉, 해당 객체의 멤버인 경우) 변수 이름 앞에 붙이는\n",
    "`this.`마저도 생략 가능하므로 다음과 같이 더 코드를 짧게 줄일 수도 있다."
   ]
  },
  {
   "cell_type": "code",
   "execution_count": 9,
   "metadata": {},
   "outputs": [],
   "source": [
    "record Rectangle(int width, int height) {\n",
    "  boolean hasTheSameHeight(Rectangle rectangle) {\n",
    "    return height == rectangle.height;   // no this.height needed !\n",
    "  }\n",
    "}"
   ]
  },
  {
   "cell_type": "code",
   "execution_count": 10,
   "metadata": {},
   "outputs": [],
   "source": [
    "var rectangle1 = new Rectangle(2, 3);\n",
    "var rectangle2 = new Rectangle(4, 3);"
   ]
  },
  {
   "cell_type": "code",
   "execution_count": 11,
   "metadata": {},
   "outputs": [
    {
     "data": {
      "text/plain": [
       "true"
      ]
     },
     "execution_count": 11,
     "metadata": {},
     "output_type": "execute_result"
    }
   ],
   "source": [
    "rectangle1.hasTheSameHeight(rectangle2)"
   ]
  },
  {
   "cell_type": "markdown",
   "metadata": {},
   "source": [
    "### `void`\n",
    "There is also a special type named `void` if the method return no value"
   ]
  },
  {
   "cell_type": "code",
   "execution_count": 12,
   "metadata": {},
   "outputs": [
    {
     "name": "stdout",
     "output_type": "stream",
     "text": [
      "hello i'm 4 x 5\n"
     ]
    }
   ],
   "source": [
    "record Rectangle(int width, int height) {\n",
    "  void hello() {\n",
    "    System.out.println(\"hello i'm \" + width + \" x \" + height);\n",
    "  }\n",
    "}\n",
    "\n",
    "new Rectangle(4, 5).hello();"
   ]
  },
  {
   "cell_type": "markdown",
   "metadata": {},
   "source": [
    "## 인스턴스 메소드 vs. 클래스 메소드\n",
    "자바에는 두 종류의 메소드가 있다.\n",
    "- 인스턴스 메소드(instance methods): 인스턴스가 있어야 (`this`에 지정되며) 실행 가능\n",
    "- 클래스 메소드(class method): 특정 인스턴스에 의존하지 않음.\n",
    "\n",
    "클래스 메소드 정의에 `static`이라는 키워드를 활용하기 때문에 정적 메소드(static method)라고도 부르데, 자바 공식 문서(JDK documentation)에서 채택하는 용어는 아니다. 참고로, C++ 등 다른 객체지향 언어에서는 그에 상응하는 공식 표준 용어가 \"정적 메소드\"인 프로그래밍 언어들도 있다. 그래서 자바와 관련해서도 공식 문서 용어가 아닌 정적 메소드라는 용어를 쓰더라도 다들 혼란 없이 의사소통이 가능한 상황이다."
   ]
  },
  {
   "cell_type": "markdown",
   "metadata": {},
   "source": [
    "인스턴스 메소드와 달리, 클래스 메소드에는 `this`와 관련된 내용이 (생략된 경우까지도 포함하여) 나타날 수 없다.\n",
    "\n",
    "예를 들어, 가로와 세로의 길이가 같은 직사각형 인스턴스를 리턴하는 `createSquare()` 클래스 메소드를 다음과 같이 정의할 수 있다."
   ]
  },
  {
   "cell_type": "code",
   "execution_count": 15,
   "metadata": {},
   "outputs": [],
   "source": [
    "record Rectangle(int width, int height) {\n",
    "  int area() {\n",
    "    return width * height;\n",
    "  }\n",
    "  static Rectangle createSquare(int side) {\n",
    "    return new Rectangle(side, side);\n",
    "  }\n",
    "}\n"
   ]
  },
  {
   "cell_type": "markdown",
   "metadata": {},
   "source": [
    "클래스 메소드는 특정 인스턴스에 의존하지 않기 때문에, 각각의 인스턴스마다 별개로 포함하는 레코드의 구성요소에 접근할 수 없다. `Rectangle` 레코드의 경우라면, `this.width`나 `this.height` 혹은 앞에 `this.`가 생략된 형태인 `width`나 `hight`를 클래스 메소드를 작성하는 데 활용할 수 없다는 말이다. 서로 다른 인스턴스, 그러니까 예를 들면 rectangle1과 rectangle2의 구성요소는 다를 수 있기 때문에, 인스턴스에 독립적인 클래스 메소드에서는 그런 구성요소들을 활용할 수 없다."
   ]
  },
  {
   "cell_type": "markdown",
   "metadata": {},
   "source": [
    "클래스 메소드는 인스턴스가 아닌 레코드(또는 클래스)의 이름을 `.`앞에 작성하여 호출한다."
   ]
  },
  {
   "cell_type": "code",
   "execution_count": 10,
   "metadata": {},
   "outputs": [
    {
     "name": "stdout",
     "output_type": "stream",
     "text": [
      "9\n"
     ]
    }
   ],
   "source": [
    "var square1 = Rectangle.createSquare(3);\n",
    "System.out.println(square1.area());"
   ]
  },
  {
   "cell_type": "markdown",
   "metadata": {},
   "source": [
    "그런데, 사실 무슨 이런 복잡한 설명을 할 필요 없이 그냥 클래스 메소드라는 건, 자바에서 억지로 모든 함수를 메소드의 형태로 레코드나 클래스 안에만 작성할 수 있도록 자바가 제한하고 있어서 레코드나 클래스 밖에 그냥 수학에서처럼 독립적으로 평범한 함수를 작성하지 못하게 막았기 때문에 굳이 또 다른 종류의 클래스 메소드라는 개념이 필요하게 된 것으로도 볼 수 있다."
   ]
  },
  {
   "cell_type": "code",
   "execution_count": 11,
   "metadata": {},
   "outputs": [
    {
     "name": "stdout",
     "output_type": "stream",
     "text": [
      "5.0\n"
     ]
    }
   ],
   "source": [
    " // ### static methods are useful to share code\n",
    " // by example, to calculate the length of the diagonal of a Rectangle, one can write\n",
    "record Rectangle(int width, int height) {\n",
    "  double diagonal() {\n",
    "    return Math.sqrt(width * width + height * height);\n",
    "  }\n",
    "}\n",
    "var rectangle2 = new Rectangle(4, 3);\n",
    "System.out.println(rectangle2.diagonal());\n"
   ]
  },
  {
   "cell_type": "markdown",
   "metadata": {},
   "source": [
    "it can also be written using a static method `pow2()` to share some code\n"
   ]
  },
  {
   "cell_type": "code",
   "execution_count": 12,
   "metadata": {},
   "outputs": [
    {
     "name": "stdout",
     "output_type": "stream",
     "text": [
      "5.0\n"
     ]
    }
   ],
   "source": [
    "record Rectangle(int width, int height) {\n",
    "  double diagonal() {\n",
    "    return Math.sqrt(pow2(width) + pow2(height));\n",
    "  }\n",
    "  static int pow2(int value) {\n",
    "    return value * value;\n",
    "  }\n",
    "}\n",
    "var rectangle2 = new Rectangle(4, 3);\n",
    "System.out.println(rectangle2.diagonal());\n"
   ]
  },
  {
   "cell_type": "markdown",
   "metadata": {},
   "source": [
    "In fact, there is already a static method named hypot in java.lang.Math\n",
    "that computes the hypotenuse, so Rectangle can be written like this\n"
   ]
  },
  {
   "cell_type": "code",
   "execution_count": 13,
   "metadata": {},
   "outputs": [
    {
     "name": "stdout",
     "output_type": "stream",
     "text": [
      "5.0\n"
     ]
    }
   ],
   "source": [
    "record Rectangle(int width, int height) {\n",
    "  double diagonal() {\n",
    "    return Math.hypot(width, height);\n",
    "  }\n",
    "}\n",
    "var rectangle2 = new Rectangle(4, 3);\n",
    "System.out.println(rectangle2.diagonal());\n"
   ]
  }
 ],
 "metadata": {
  "kernelspec": {
   "display_name": "Java (rjk 2.1.0)",
   "language": "java",
   "name": "rapaio-jupyter-kernel"
  },
  "language_info": {
   "codemirror_mode": "java",
   "file_extension": ".jshell",
   "mimetype": "text/x-java-source",
   "name": "java",
   "nbconvert_exporter": "script",
   "pygments_lexer": "java",
   "version": "22.0.2+9"
  }
 },
 "nbformat": 4,
 "nbformat_minor": 4
}
