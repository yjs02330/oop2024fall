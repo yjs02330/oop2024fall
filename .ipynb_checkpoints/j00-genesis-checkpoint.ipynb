{
 "cells": [
  {
   "cell_type": "markdown",
   "id": "20b450c6-f423-4d03-9f83-39d7cbb079c2",
   "metadata": {},
   "source": [
    "# 맛보기\n",
    "\n",
    "자바에서 뚜렷이 구분되는 **원시 타입**과 **오브젝트 타입**\n",
    "- `double` 처럼 소문자로 시작하는 원시 타입(primitive type), 원시 데이터 타입(primitive data type)\n",
    "- `String` 처럼 대문자로 시작하는 오브젝트 타입(object type), 객체 타입, 참조 타입(reference type)"
   ]
  },
  {
   "cell_type": "markdown",
   "id": "5c14b9e7-86ed-4413-a9c2-759b17b4b42a",
   "metadata": {},
   "source": [
    "----\n",
    "\n",
    "## 타입\n",
    "\n",
    "자바에서 원시 데이터는 C에서의 값(메모리에 저장된 내용)처럼 처리되고 객체(object)는 참조(내용이 저장되는 메모리의 주소)로 처리된다.\n",
    "\n",
    "자바에서는 `var` 키워드로 새로운 변수를 만들 수 있다."
   ]
  },
  {
   "cell_type": "code",
   "execution_count": 1,
   "id": "629a9992-9258-436b-bd7d-e1632e27cbc0",
   "metadata": {},
   "outputs": [],
   "source": [
    "var maxIntensity = 1.0;   // it's a value\n",
    "var colorName = \"black\";  // it's a reference to String somewhere in memory"
   ]
  },
  {
   "cell_type": "markdown",
   "id": "f4a1f5aa-55ff-4542-b043-a30a16fb1110",
   "metadata": {},
   "source": [
    "컴파일러가 무슨 타입인지 찾아 달라는 `var` 대신 직접 타입을 지정해 줄 수도 있다."
   ]
  },
  {
   "cell_type": "code",
   "execution_count": 2,
   "id": "950da3b5-4ef0-4fd3-986f-41029e005039",
   "metadata": {},
   "outputs": [],
   "source": [
    "String colorName = \"black\"; // 올바른 타입 지정"
   ]
  },
  {
   "cell_type": "code",
   "execution_count": 3,
   "id": "cc0bb126-5355-4e11-947c-a21fcf73d549",
   "metadata": {},
   "outputs": [],
   "source": [
    "// char maxIntensity = 1.0; // 오류가 나는 타입 지정"
   ]
  },
  {
   "cell_type": "markdown",
   "id": "6e0df254-c91f-4178-a494-195478d0b207",
   "metadata": {},
   "source": [
    "### `System.out.println()`\n",
    "자바에서는 이런 이상한 주문같은 걸 써서 출력한다."
   ]
  },
  {
   "cell_type": "code",
   "execution_count": 4,
   "id": "776b13dc-d785-4f49-a4dd-7cbc8dd2def1",
   "metadata": {},
   "outputs": [
    {
     "name": "stdout",
     "output_type": "stream",
     "text": [
      "1.0\n"
     ]
    }
   ],
   "source": [
    "System.out.println(maxIntensity);"
   ]
  },
  {
   "cell_type": "code",
   "execution_count": 5,
   "id": "3346089d-6a6f-4e68-a3d7-24d7c4830057",
   "metadata": {},
   "outputs": [
    {
     "name": "stdout",
     "output_type": "stream",
     "text": [
      "1.0\n",
      "1.0\n"
     ]
    }
   ],
   "source": [
    "System.out.println(maxIntensity);\n",
    "System.out.println(maxIntensity);"
   ]
  },
  {
   "cell_type": "code",
   "execution_count": 6,
   "id": "67435728-62fe-4d81-bdcb-84728f8238cc",
   "metadata": {},
   "outputs": [
    {
     "name": "stdout",
     "output_type": "stream",
     "text": [
      "1.01.0"
     ]
    }
   ],
   "source": [
    "System.out.print(maxIntensity);\n",
    "System.out.print(maxIntensity);"
   ]
  },
  {
   "cell_type": "markdown",
   "id": "7e5dead9-cca0-4588-969d-54bcb3403d8a",
   "metadata": {},
   "source": [
    "### `+`로 연결하기\n",
    "\n",
    "텍스트 다음에 어떤 값을 연달아 출력하려면 `+` 연산자를 쓰면 된다."
   ]
  },
  {
   "cell_type": "code",
   "execution_count": 7,
   "id": "c2b11457-b0ed-4488-9ab6-05ca3adf7a77",
   "metadata": {},
   "outputs": [
    {
     "name": "stdout",
     "output_type": "stream",
     "text": [
      "the value of colorName is black\n"
     ]
    }
   ],
   "source": [
    "System.out.println(\"the value of colorName is \" + colorName);"
   ]
  },
  {
   "cell_type": "code",
   "execution_count": 8,
   "id": "dd647a73-96ad-450d-a178-7fa567aadecd",
   "metadata": {},
   "outputs": [
    {
     "data": {
      "text/plain": [
       "the value of colorName is black"
      ]
     },
     "execution_count": 8,
     "metadata": {},
     "output_type": "execute_result"
    }
   ],
   "source": [
    "\"the value of colorName is \" + colorName"
   ]
  },
  {
   "cell_type": "markdown",
   "id": "b55b148f-7aa6-4322-a7dd-71b0e04fba27",
   "metadata": {},
   "source": [
    "----\n",
    "\n",
    "## 레코드(`record`)는 사용자 정의 타입 \n",
    "\n",
    "여기서 `Light`를 두 개의 요소를 포함하도록 정의하고 있다.\n",
    "- 문자열 타입(`String`)으로 나타낸 색상(`color`)\n",
    "- 64비트 부동 소수점 타입(`double`)으로 나타낸 세기(`intensity`)"
   ]
  },
  {
   "cell_type": "code",
   "execution_count": 9,
   "id": "612490f4-866d-40b9-abea-68eba849beee",
   "metadata": {},
   "outputs": [],
   "source": [
    "record Light(String color, double intensity) { }"
   ]
  },
  {
   "cell_type": "markdown",
   "id": "71e727d8-f835-457a-b114-22e76c95d07b",
   "metadata": {},
   "source": [
    "### 객체(대상, 물건) 새로(`new`) 만들기\n",
    "\n",
    "메모리에 객체를 생성하기 위해 `new` 키워드를 쓰고 레코드의 이름 뒤에 각각의 구성요소 값을 작성한다."
   ]
  },
  {
   "cell_type": "code",
   "execution_count": 10,
   "id": "3f9f0a37-e35c-423a-8ce0-8aa208e02060",
   "metadata": {},
   "outputs": [],
   "source": [
    "var blueLight = new Light(\"blue\", 1.0);"
   ]
  },
  {
   "cell_type": "code",
   "execution_count": 11,
   "id": "e09ca043-4927-4668-9e30-0f0b4620def3",
   "metadata": {},
   "outputs": [
    {
     "name": "stdout",
     "output_type": "stream",
     "text": [
      "Light[color=blue, intensity=1.0]\n"
     ]
    }
   ],
   "source": [
    "System.out.println(blueLight);"
   ]
  },
  {
   "cell_type": "code",
   "execution_count": 12,
   "id": "ccd67ca1-bbac-46ed-95a0-faefa11ff408",
   "metadata": {},
   "outputs": [
    {
     "data": {
      "text/plain": [
       "Light[color=blue, intensity=1.0]"
      ]
     },
     "execution_count": 12,
     "metadata": {},
     "output_type": "execute_result"
    }
   ],
   "source": [
    "blueLight"
   ]
  },
  {
   "cell_type": "markdown",
   "id": "9cae6198-6599-4ff1-8771-148accc86a20",
   "metadata": {},
   "source": [
    "### 레코드 메소드\n",
    "\n",
    "자바의 객체와 상호작용하려면 메소드를 활용한다. 메소드란 객체에 딸린 함수로 `.` 연산자 뒤에 메소드 이름과 인수(argument)를 작성하여 호출한다.\n",
    "\n",
    "레코드의 각 구성요소마다 자동으로 메소드가 이미 선언된 것처럼 제공된다.\n",
    "\n",
    "그러니까 `Light`에는 두 메소드 `color()`와 `intensity()`가 이미 제공되고 있다."
   ]
  },
  {
   "cell_type": "code",
   "execution_count": 13,
   "id": "5dada83e-6401-4474-bb78-e19335f3b344",
   "metadata": {},
   "outputs": [
    {
     "name": "stdout",
     "output_type": "stream",
     "text": [
      "1.0\n"
     ]
    }
   ],
   "source": [
    "System.out.println( blueLight.intensity() );"
   ]
  },
  {
   "cell_type": "code",
   "execution_count": 14,
   "id": "1b92a119-9e9a-4c22-af3c-1988876197dd",
   "metadata": {},
   "outputs": [
    {
     "data": {
      "text/plain": [
       "1.0"
      ]
     },
     "execution_count": 14,
     "metadata": {},
     "output_type": "execute_result"
    }
   ],
   "source": [
    "blueLight.intensity()"
   ]
  },
  {
   "cell_type": "markdown",
   "id": "6e9591c7-6487-4987-abac-f8fb257490f4",
   "metadata": {},
   "source": [
    "#### `toString()`\n",
    "자바 `record`는 기본적으로 문자열(`String`)로 변환되는 방법을 내장하고 있다.\n",
    "이렇게 객체를 문자열로 변환하는 메소드가 바로 `toString()`이다.\n",
    "사실, `println()`의 인수가 객체인 경우 `toString()`을 호출하도록 오버로딩되어 있으므로 `println()`으로 객체를 출력할 때는 `toString()`을 드러나 보이게 직접 호출하지 않아도 된다."
   ]
  },
  {
   "cell_type": "code",
   "execution_count": 15,
   "id": "a4649d76-fcfb-48f9-8bc8-abcd303e23f4",
   "metadata": {},
   "outputs": [
    {
     "name": "stdout",
     "output_type": "stream",
     "text": [
      "Light[color=blue, intensity=1.0]\n",
      "Light[color=blue, intensity=1.0]\n"
     ]
    }
   ],
   "source": [
    "System.out.println( blueLight.toString() );\n",
    "System.out.println( blueLight );"
   ]
  },
  {
   "cell_type": "markdown",
   "id": "7dacda02-6a35-451b-8e95-98cd86fca840",
   "metadata": {},
   "source": [
    "#### `equals(Object)`\n",
    "\n",
    "자바에서 두 객체의 내용이 같은지 비교하기 위한 `equals(Object)` 메소드의 계산 결과는 참(`true`)이거나 거짓(`false`)인 진리값이다.\n",
    "진리값의 타입, 즉 논리 타입 혹은 불리언 타입은 자바에서 `boolean`으로 작성하는 원시 타입(primitive type)이다."
   ]
  },
  {
   "cell_type": "code",
   "execution_count": 16,
   "id": "fd9d852a-7da6-4e7c-81bc-0a3bab690f02",
   "metadata": {},
   "outputs": [],
   "source": [
    "var redLight = new Light(\"red\", 0.5);\n",
    "var redLight2 = new Light(\"red\", 0.5);"
   ]
  },
  {
   "cell_type": "code",
   "execution_count": 17,
   "id": "5a09a9ed-f062-4832-9497-8ed124c48f38",
   "metadata": {},
   "outputs": [
    {
     "name": "stdout",
     "output_type": "stream",
     "text": [
      "false\n",
      "true\n"
     ]
    }
   ],
   "source": [
    "System.out.println( blueLight.equals(redLight) );\n",
    "System.out.println( redLight.equals(redLight2) );"
   ]
  },
  {
   "cell_type": "code",
   "execution_count": 18,
   "id": "322407ea-0666-4230-9417-961895812802",
   "metadata": {},
   "outputs": [
    {
     "data": {
      "text/plain": [
       "false"
      ]
     },
     "execution_count": 18,
     "metadata": {},
     "output_type": "execute_result"
    }
   ],
   "source": [
    "blueLight == redLight"
   ]
  },
  {
   "cell_type": "code",
   "execution_count": 19,
   "id": "5bc6e00a-706d-4d42-bbff-cce28ba33194",
   "metadata": {},
   "outputs": [
    {
     "data": {
      "text/plain": [
       "false"
      ]
     },
     "execution_count": 19,
     "metadata": {},
     "output_type": "execute_result"
    }
   ],
   "source": [
    "redLight == redLight2"
   ]
  },
  {
   "cell_type": "code",
   "execution_count": 20,
   "id": "80e51a49-1cfb-427e-b47f-d9424c71ea15",
   "metadata": {},
   "outputs": [
    {
     "data": {
      "text/plain": [
       "true"
      ]
     },
     "execution_count": 20,
     "metadata": {},
     "output_type": "execute_result"
    }
   ],
   "source": [
    "redLight == redLight"
   ]
  },
  {
   "cell_type": "markdown",
   "id": "16573fc2-8667-4fdf-a39a-8c96028cb71c",
   "metadata": {},
   "source": [
    "#### `hashCode()`\n",
    "\n",
    "You can also ask to get an integer summary (a hash) of any objects. This is used to speed up data structures (hash tables). Two objects that are equals() must have the same hashCode()."
   ]
  },
  {
   "cell_type": "code",
   "execution_count": 21,
   "id": "6ee6e428-36d8-490a-9625-e6f52a7254f0",
   "metadata": {},
   "outputs": [],
   "source": [
    "var greenLight = new Light(\"green\", 0.2);\n",
    "var greenLight2 = new Light(\"green\", 0.2);"
   ]
  },
  {
   "cell_type": "code",
   "execution_count": 22,
   "id": "8611b5ce-0f23-4def-a74d-0342d9ed12be",
   "metadata": {},
   "outputs": [
    {
     "name": "stdout",
     "output_type": "stream",
     "text": [
      "1552486752\n",
      "1552486752\n"
     ]
    }
   ],
   "source": [
    "System.out.println(greenLight.hashCode());\n",
    "System.out.println(greenLight2.hashCode());"
   ]
  },
  {
   "cell_type": "markdown",
   "id": "2241eecd-3deb-4ed8-9994-7b67ac30c0be",
   "metadata": {},
   "source": [
    "# 요점정리\n",
    "\n",
    "레코드(`record`)를 정의할 때는 여러 개의 파라메터로 객체를 만들기 위한 요소를 나타낸다.\n",
    "\n",
    "키위드 `new` 다음에 레코드의 이름과 각각의 구성요소들을 순서대로 인수로 제공하여 객체를 생성한다.\n",
    "\n",
    "객체와 상호작용하려면 객체를 대상으로 `.` 연산자를 이용하여 호출하는 함수인 메소드를 활용한다.\n",
    "\n",
    "`record` 선언은 각각의 구성요소에 접근할 수 있는 메소드가 기본적으로 잘 정의되어 제공되며 그 외에도 다음과 같은 메소드들이 기본적으로 제공된다.\n",
    "- `toString()`은 객체의 텍스트 표현 제공\n",
    "- `equals(Object)`과 `hashCode()`는 두 객체의 내용이 같은지 검사"
   ]
  },
  {
   "cell_type": "code",
   "execution_count": null,
   "id": "cb74ef04-77dd-4ee3-b074-a1a57d90bf52",
   "metadata": {},
   "outputs": [],
   "source": []
  }
 ],
 "metadata": {
  "kernelspec": {
   "display_name": "Java (rjk 2.1.0)",
   "language": "java",
   "name": "rapaio-jupyter-kernel"
  },
  "language_info": {
   "codemirror_mode": "java",
   "file_extension": ".jshell",
   "mimetype": "text/x-java-source",
   "name": "java",
   "nbconvert_exporter": "script",
   "pygments_lexer": "java",
   "version": "22.0.2+9"
  }
 },
 "nbformat": 4,
 "nbformat_minor": 5
}
